{
  "nbformat": 4,
  "nbformat_minor": 0,
  "metadata": {
    "colab": {
      "provenance": []
    },
    "kernelspec": {
      "name": "python3",
      "display_name": "Python 3"
    },
    "language_info": {
      "name": "python"
    }
  },
  "cells": [
    {
      "cell_type": "markdown",
      "source": [
        "O objetivo deste exercício é mostrar como cria uma sessão do Pyspark, criar um DataFrame a partir de uma lista de nomes e realizar algumas operações básicas.\n",
        "\n",
        "Certifique-se que o Pyspark está instalado. Você pode instalar usando o pip:"
      ],
      "metadata": {
        "id": "ScVWFsNXgtoi"
      }
    },
    {
      "cell_type": "code",
      "execution_count": null,
      "metadata": {
        "colab": {
          "base_uri": "https://localhost:8080/"
        },
        "id": "VvJz801OgpZG",
        "outputId": "230483a1-6c5b-4d32-a907-671c366ea655"
      },
      "outputs": [
        {
          "output_type": "stream",
          "name": "stdout",
          "text": [
            "Requirement already satisfied: pyspark in /usr/local/lib/python3.11/dist-packages (3.5.5)\n",
            "Requirement already satisfied: py4j==0.10.9.7 in /usr/local/lib/python3.11/dist-packages (from pyspark) (0.10.9.7)\n"
          ]
        }
      ],
      "source": [
        "! pip install pyspark"
      ]
    },
    {
      "cell_type": "markdown",
      "source": [
        "Importando bibliotecas necessárias : Pyspark"
      ],
      "metadata": {
        "id": "7zKBOqq4hs_A"
      }
    },
    {
      "cell_type": "code",
      "source": [
        "from pyspark.sql import SparkSession"
      ],
      "metadata": {
        "id": "k33Wgdn1hynB"
      },
      "execution_count": null,
      "outputs": []
    },
    {
      "cell_type": "markdown",
      "source": [
        "Criar uma sessão do Spark é necessário, pois criamos uma entrada de conexão para utilizar suas funcionalidades."
      ],
      "metadata": {
        "id": "zM7u-E-HjJu_"
      }
    },
    {
      "cell_type": "code",
      "source": [
        "spark = SparkSession.builder.appName(\"Introdução ao Pyspark\").getOrCreate()"
      ],
      "metadata": {
        "id": "pV4OHVAejSqn"
      },
      "execution_count": null,
      "outputs": []
    },
    {
      "cell_type": "markdown",
      "source": [
        "Criando um DataFrame simples a partir de uma lista de nomes."
      ],
      "metadata": {
        "id": "JQ4UcURBkY_k"
      }
    },
    {
      "cell_type": "code",
      "source": [
        "# Lista de nomes\n",
        "\n",
        "dados = [(\"Alice\",25,\"F\"),(\"Bob\",23,\"M\"),(\"Cathy\",22,\"F\"),(\"David\",25,\"M\"),(\"Eve\",29,\"F\")] # Criando uma listade valores\n",
        "\n",
        "# Criando DataFrame\n",
        "df = spark.createDataFrame(dados,[\"Nome\",\"Idade\",\"Genero\"])\n",
        "\n",
        "#Exibindo o DataFrame para visualizar as informações\n",
        "df.show()"
      ],
      "metadata": {
        "colab": {
          "base_uri": "https://localhost:8080/"
        },
        "id": "TKbgNHZGkdPj",
        "outputId": "6699e033-a56f-4cd8-9ff9-a37f19c52534"
      },
      "execution_count": null,
      "outputs": [
        {
          "output_type": "stream",
          "name": "stdout",
          "text": [
            "+-----+-----+------+\n",
            "| Nome|Idade|Genero|\n",
            "+-----+-----+------+\n",
            "|Alice|   25|     F|\n",
            "|  Bob|   23|     M|\n",
            "|Cathy|   22|     F|\n",
            "|David|   25|     M|\n",
            "|  Eve|   29|     F|\n",
            "+-----+-----+------+\n",
            "\n"
          ]
        }
      ]
    },
    {
      "cell_type": "markdown",
      "source": [
        "Contando o número de nomes presentes dentro do DataFrame."
      ],
      "metadata": {
        "id": "fvhSZ8Cznb46"
      }
    },
    {
      "cell_type": "code",
      "source": [
        "total_nomes = df.count()\n",
        "print(f\"Total de Nomes: {total_nomes}\")\n",
        "print(\"Total de nomes\" ,total_nomes)"
      ],
      "metadata": {
        "colab": {
          "base_uri": "https://localhost:8080/"
        },
        "id": "KLRcDg9snidI",
        "outputId": "0cfda028-2013-4082-b389-cbbd25dcf5b8"
      },
      "execution_count": null,
      "outputs": [
        {
          "output_type": "stream",
          "name": "stdout",
          "text": [
            "Total de Nomes: 5\n",
            "Total de nomes 5\n"
          ]
        }
      ]
    },
    {
      "cell_type": "markdown",
      "source": [
        "Filtrando nomes que começem com letra A."
      ],
      "metadata": {
        "id": "p9_Pp_LpoeEY"
      }
    },
    {
      "cell_type": "code",
      "source": [
        "nomes_com_a = df.filter(df.Nome.startswith(\"A\"))\n",
        "nomes_com_a.show()\n"
      ],
      "metadata": {
        "colab": {
          "base_uri": "https://localhost:8080/"
        },
        "id": "qbplmey-oi_I",
        "outputId": "b4208ae1-0ca9-4784-fa09-ef90b98b7ec2"
      },
      "execution_count": null,
      "outputs": [
        {
          "output_type": "stream",
          "name": "stdout",
          "text": [
            "+-----+-----+------+\n",
            "| Nome|Idade|Genero|\n",
            "+-----+-----+------+\n",
            "|Alice|   25|     F|\n",
            "+-----+-----+------+\n",
            "\n"
          ]
        }
      ]
    },
    {
      "cell_type": "markdown",
      "source": [
        "Finalizando a sessão"
      ],
      "metadata": {
        "id": "FuHS4PHeprNn"
      }
    },
    {
      "cell_type": "code",
      "source": [
        "spark.stop()"
      ],
      "metadata": {
        "id": "Ptz5udQVptCv"
      },
      "execution_count": null,
      "outputs": []
    }
  ]
}