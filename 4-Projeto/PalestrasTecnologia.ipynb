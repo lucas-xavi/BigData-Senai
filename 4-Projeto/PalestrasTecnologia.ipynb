{
  "nbformat": 4,
  "nbformat_minor": 0,
  "metadata": {
    "colab": {
      "provenance": []
    },
    "kernelspec": {
      "name": "python3",
      "display_name": "Python 3"
    },
    "language_info": {
      "name": "python"
    }
  },
  "cells": [
    {
      "cell_type": "markdown",
      "source": [
        "* Criar um banco de dados SQLite com 10 colunas e 20 linhas de dados.\n",
        "* Conectar o Pyspark a esse banco de dados.\n",
        "* Realizar algumas análises e filtros nos dados (minímo 3 ações)\n",
        "* Exportar os resultados para um arquivo Excel."
      ],
      "metadata": {
        "id": "Zmtg7vUfL1iE"
      }
    },
    {
      "cell_type": "code",
      "source": [
        "!pip install pyspark"
      ],
      "metadata": {
        "colab": {
          "base_uri": "https://localhost:8080/"
        },
        "id": "F2c21lRkGna5",
        "outputId": "fa2e538b-31a7-4174-bfad-456a9b7f2c83"
      },
      "execution_count": null,
      "outputs": [
        {
          "output_type": "stream",
          "name": "stdout",
          "text": [
            "Requirement already satisfied: pyspark in /usr/local/lib/python3.11/dist-packages (3.5.5)\n",
            "Requirement already satisfied: py4j==0.10.9.7 in /usr/local/lib/python3.11/dist-packages (from pyspark) (0.10.9.7)\n"
          ]
        }
      ]
    },
    {
      "cell_type": "code",
      "execution_count": null,
      "metadata": {
        "id": "2rUphps8Jj3d"
      },
      "outputs": [],
      "source": [
        "# Importando as bibliotecas\n",
        "\n",
        "import sqlite3\n",
        "from pyspark.sql import SparkSession\n",
        "from pyspark.sql import functions as F"
      ]
    },
    {
      "cell_type": "code",
      "source": [
        "# Conexão com banco de dados\n",
        "\n",
        "conn = sqlite3.connect(\"base_dados_local.db\")\n",
        "cursor = conn.cursor()"
      ],
      "metadata": {
        "id": "UW99fZlkKM4s"
      },
      "execution_count": null,
      "outputs": []
    },
    {
      "cell_type": "code",
      "source": [
        "# Importando a tabela\n",
        "\n",
        "cursor.execute('''\n",
        "  CREATE TABLE IF NOT EXISTS tecnologia(\n",
        "    id_evento INTEGER PRIMARY KEY,\n",
        "    nome_evento TEXT,\n",
        "    data_evento TEXT,\n",
        "    local TEXT,\n",
        "    tema TEXT,\n",
        "    publico_alvo TEXT,\n",
        "    palestrantes INTEGER,\n",
        "    patrocinadores INTEGER,\n",
        "    numero_participantes INTEGER,\n",
        "    orcamento REAL\n",
        "  )\n",
        "''')"
      ],
      "metadata": {
        "colab": {
          "base_uri": "https://localhost:8080/"
        },
        "id": "92dTrEaWKntU",
        "outputId": "ca0ab294-b2b0-4f4f-ebf0-9c188c66670d"
      },
      "execution_count": null,
      "outputs": [
        {
          "output_type": "execute_result",
          "data": {
            "text/plain": [
              "<sqlite3.Cursor at 0x7aae6c2500c0>"
            ]
          },
          "metadata": {},
          "execution_count": 4
        }
      ]
    },
    {
      "cell_type": "code",
      "source": [
        "cursor.executemany('''\n",
        "  INSERT INTO tecnologia (nome_evento, data_evento, local, tema, publico_alvo, palestrantes, patrocinadores, numero_participantes, orcamento)\n",
        "  VALUES (?, ?, ?, ?, ?, ?, ?, ?, ?)\n",
        "''',[\n",
        "    ('TechSummit','2023-11-15','São Paulo','Inteligência Artificial','Desenvolvedores',5,3,500,12000),\n",
        "    ('WebDev Conference','2023-11-20','Rio de Janeiro','Desenvolvimento Web','Programadores',8,5,800,15000),\n",
        "    ('DataScience Meetup','2023-11-25','Belo Horizonte','Ciência de Dados','Analistas de Dados',3,2,300,10000),\n",
        "    ('Cloud Expo','2023-11-30','Porto Alegre','Computação em Nuvem','Administradores de Sistemas',6,4,600,45000),\n",
        "    ('Mobile World','2023-12-05','Curitiba','Desenvolvimento Mobile','Desenvolvedores Mobile',7,6,700,30000),\n",
        "    ('CyberSecurity Forum','2023-12-10','Brasília','Segurança da Informação','Profissionais de Segurança',4,3,400,80000),\n",
        "    ('AI Workshop','2023-12-15','Salvador','Inteligência Artificial','Estudantes',2,1,200,60000),\n",
        "    ('FrontEnd Day','2023-12-20','Recife','Desenvolvimento Front-End','Desenvolvedores Front-End',9,7,900,20000),\n",
        "    ('BigData Summit','2024-01-10','Campinas','Big Data','Engenheiros de Dados',5,4,500,100000),\n",
        "    ('DevOps Conference','2024-01-15','Goiânia','DevOps','Engenheiros de DevOps',8,6,800,40000),\n",
        "    ('IoT Expo','2024-01-20','Manaus','Internet das Coisas','Desenvolvedores IoT',6,5,600,30000),\n",
        "    ('Blockchain Meetup','2024-01-25','Fortaleza','Blockchain','Desenvolvedores Blockchain',3,2,300,9600),\n",
        "    ('UX/UI Design Week','2024-02-05','Florianópolis','Design UX/UI','Designers UX/UI',7,6,700,15420),\n",
        "    ('GameDev Conference','2024-02-10','Vitória','Desenvolvimento de Jogos','Desenvolvedores de Jogos',9,8,900,154030),\n",
        "    ('Robotics Expo','2024-02-15','João Pessoa','Robótica','Engenheiros de Robótica',5,4,500,30000),\n",
        "    ('Quantum Computing Forum','2024-02-20','Cuiabá','Computação Quântica','Pesquisadores',4,3,400,15350),\n",
        "    ('GreenTech Summit','2024-03-05','Aracaju','Tecnologia Verde','Empreendedores',6,5,600,10300),\n",
        "    ('EdTech Conference','2024-03-10','Natal','Tecnologia na Educação','Educadores',8,7,800,5440),\n",
        "    ('HealthTech Expo','2024-03-15','Macapá','Tecnologia na Saúde','Profissionais de Saúde',7,6,700,70000),\n",
        "    ('SpaceTech Forum','2024-03-20','Boa Vista','Tecnologia Espacial','Engenheiros Aeroespaciais',5,4,500,50000)\n",
        "])"
      ],
      "metadata": {
        "colab": {
          "base_uri": "https://localhost:8080/"
        },
        "id": "-dEdXvhrNMUo",
        "outputId": "a510d444-0cf2-45f2-d174-48ad88a04dfc"
      },
      "execution_count": null,
      "outputs": [
        {
          "output_type": "execute_result",
          "data": {
            "text/plain": [
              "<sqlite3.Cursor at 0x7aae6c2500c0>"
            ]
          },
          "metadata": {},
          "execution_count": 5
        }
      ]
    },
    {
      "cell_type": "code",
      "source": [
        "# Salvando as alterações e fechando a conexão\n",
        "\n",
        "conn.commit() # Salva as alterações\n",
        "\n",
        "conn.close() # Fecha a conexão"
      ],
      "metadata": {
        "id": "OqoOJUGA-7lX"
      },
      "execution_count": null,
      "outputs": []
    },
    {
      "cell_type": "code",
      "source": [
        "# Criando a sessão Spark com o driver JDBC\n",
        "jdbc_driver_path = '/content/sqlite-jdbc.jar'\n",
        "\n",
        "spark = SparkSession.builder.appName('Análise professional').config('spark.driver.extraClassPath', jdbc_driver_path).getOrCreate()"
      ],
      "metadata": {
        "id": "YyCopUAB9gjB"
      },
      "execution_count": null,
      "outputs": []
    },
    {
      "cell_type": "code",
      "source": [
        "# Montando DataFrame\n",
        "\n",
        "df = spark.read.format(\"jdbc\").options(\n",
        "    url = \"jdbc:sqlite:base_dados_local.db\",\n",
        "    dbtable = \"tecnologia\",\n",
        "    driver = \"org.sqlite.JDBC\"\n",
        ").load()\n",
        "\n",
        "df.show(truncate=False)"
      ],
      "metadata": {
        "colab": {
          "base_uri": "https://localhost:8080/"
        },
        "id": "WJWDkQum_2Ii",
        "outputId": "84098c4b-f3d5-47e9-8e19-1038d29158c8"
      },
      "execution_count": null,
      "outputs": [
        {
          "output_type": "stream",
          "name": "stdout",
          "text": [
            "+---------+-----------------------+-----------+--------------+-------------------------+---------------------------+------------+--------------+--------------------+---------+\n",
            "|id_evento|nome_evento            |data_evento|local         |tema                     |publico_alvo               |palestrantes|patrocinadores|numero_participantes|orcamento|\n",
            "+---------+-----------------------+-----------+--------------+-------------------------+---------------------------+------------+--------------+--------------------+---------+\n",
            "|1        |TechSummit             |2023-11-15 |São Paulo     |Inteligência Artificial  |Desenvolvedores            |5           |3             |500                 |12000.0  |\n",
            "|2        |WebDev Conference      |2023-11-20 |Rio de Janeiro|Desenvolvimento Web      |Programadores              |8           |5             |800                 |15000.0  |\n",
            "|3        |DataScience Meetup     |2023-11-25 |Belo Horizonte|Ciência de Dados         |Analistas de Dados         |3           |2             |300                 |10000.0  |\n",
            "|4        |Cloud Expo             |2023-11-30 |Porto Alegre  |Computação em Nuvem      |Administradores de Sistemas|6           |4             |600                 |45000.0  |\n",
            "|5        |Mobile World           |2023-12-05 |Curitiba      |Desenvolvimento Mobile   |Desenvolvedores Mobile     |7           |6             |700                 |30000.0  |\n",
            "|6        |CyberSecurity Forum    |2023-12-10 |Brasília      |Segurança da Informação  |Profissionais de Segurança |4           |3             |400                 |80000.0  |\n",
            "|7        |AI Workshop            |2023-12-15 |Salvador      |Inteligência Artificial  |Estudantes                 |2           |1             |200                 |60000.0  |\n",
            "|8        |FrontEnd Day           |2023-12-20 |Recife        |Desenvolvimento Front-End|Desenvolvedores Front-End  |9           |7             |900                 |20000.0  |\n",
            "|9        |BigData Summit         |2024-01-10 |Campinas      |Big Data                 |Engenheiros de Dados       |5           |4             |500                 |100000.0 |\n",
            "|10       |DevOps Conference      |2024-01-15 |Goiânia       |DevOps                   |Engenheiros de DevOps      |8           |6             |800                 |40000.0  |\n",
            "|11       |IoT Expo               |2024-01-20 |Manaus        |Internet das Coisas      |Desenvolvedores IoT        |6           |5             |600                 |30000.0  |\n",
            "|12       |Blockchain Meetup      |2024-01-25 |Fortaleza     |Blockchain               |Desenvolvedores Blockchain |3           |2             |300                 |9600.0   |\n",
            "|13       |UX/UI Design Week      |2024-02-05 |Florianópolis |Design UX/UI             |Designers UX/UI            |7           |6             |700                 |15420.0  |\n",
            "|14       |GameDev Conference     |2024-02-10 |Vitória       |Desenvolvimento de Jogos |Desenvolvedores de Jogos   |9           |8             |900                 |154030.0 |\n",
            "|15       |Robotics Expo          |2024-02-15 |João Pessoa   |Robótica                 |Engenheiros de Robótica    |5           |4             |500                 |30000.0  |\n",
            "|16       |Quantum Computing Forum|2024-02-20 |Cuiabá        |Computação Quântica      |Pesquisadores              |4           |3             |400                 |15350.0  |\n",
            "|17       |GreenTech Summit       |2024-03-05 |Aracaju       |Tecnologia Verde         |Empreendedores             |6           |5             |600                 |10300.0  |\n",
            "|18       |EdTech Conference      |2024-03-10 |Natal         |Tecnologia na Educação   |Educadores                 |8           |7             |800                 |5440.0   |\n",
            "|19       |HealthTech Expo        |2024-03-15 |Macapá        |Tecnologia na Saúde      |Profissionais de Saúde     |7           |6             |700                 |70000.0  |\n",
            "|20       |SpaceTech Forum        |2024-03-20 |Boa Vista     |Tecnologia Espacial      |Engenheiros Aeroespaciais  |5           |4             |500                 |50000.0  |\n",
            "+---------+-----------------------+-----------+--------------+-------------------------+---------------------------+------------+--------------+--------------------+---------+\n",
            "\n"
          ]
        }
      ]
    },
    {
      "cell_type": "code",
      "source": [
        "#Media de participantes por palestrante\n",
        "from pyspark.sql.functions import col\n",
        "df_media_pp = df.select('nome_evento', 'palestrantes', 'numero_participantes')\n",
        "df_media_pp = df_media_pp.withColumn('media_pessoa_evento', col('numero_participantes') / col('palestrantes'))\n",
        "df_media_pp.show()"
      ],
      "metadata": {
        "colab": {
          "base_uri": "https://localhost:8080/"
        },
        "id": "7DMLQGgrHO3r",
        "outputId": "701fa1ec-a201-454d-d23c-4338cda194d2"
      },
      "execution_count": null,
      "outputs": [
        {
          "output_type": "stream",
          "name": "stdout",
          "text": [
            "+--------------------+------------+--------------------+-------------------+\n",
            "|         nome_evento|palestrantes|numero_participantes|media_pessoa_evento|\n",
            "+--------------------+------------+--------------------+-------------------+\n",
            "|          TechSummit|           5|                 500|              100.0|\n",
            "|   WebDev Conference|           8|                 800|              100.0|\n",
            "|  DataScience Meetup|           3|                 300|              100.0|\n",
            "|          Cloud Expo|           6|                 600|              100.0|\n",
            "|        Mobile World|           7|                 700|              100.0|\n",
            "| CyberSecurity Forum|           4|                 400|              100.0|\n",
            "|         AI Workshop|           2|                 200|              100.0|\n",
            "|        FrontEnd Day|           9|                 900|              100.0|\n",
            "|      BigData Summit|           5|                 500|              100.0|\n",
            "|   DevOps Conference|           8|                 800|              100.0|\n",
            "|            IoT Expo|           6|                 600|              100.0|\n",
            "|   Blockchain Meetup|           3|                 300|              100.0|\n",
            "|   UX/UI Design Week|           7|                 700|              100.0|\n",
            "|  GameDev Conference|           9|                 900|              100.0|\n",
            "|       Robotics Expo|           5|                 500|              100.0|\n",
            "|Quantum Computing...|           4|                 400|              100.0|\n",
            "|    GreenTech Summit|           6|                 600|              100.0|\n",
            "|   EdTech Conference|           8|                 800|              100.0|\n",
            "|     HealthTech Expo|           7|                 700|              100.0|\n",
            "|     SpaceTech Forum|           5|                 500|              100.0|\n",
            "+--------------------+------------+--------------------+-------------------+\n",
            "\n"
          ]
        }
      ]
    },
    {
      "cell_type": "code",
      "source": [
        "from pyspark.sql.functions import format_number\n",
        "\n",
        "#Media de preço do ingresso por participante\n",
        "df_media_preco = df.select('nome_evento', 'numero_participantes', 'orcamento')\n",
        "\n",
        "# Calculo para saber a média do preço por participante\n",
        "df_media_preco = df_media_preco.withColumn('media_preco_palestrante', col('orcamento') / col('numero_participantes'))\n",
        "\n",
        "# Ordenando os dados do maior para o menor\n",
        "df_media_preco = df_media_preco.orderBy(col('media_preco_palestrante').desc())\n",
        "\n",
        "# Formatando as casas decimais para 2\n",
        "df_media_preco = df_media_preco.withColumn('media_preco_palestrante', format_number(col('media_preco_palestrante'), 2))\n",
        "\n",
        "df_media_preco.show()"
      ],
      "metadata": {
        "colab": {
          "base_uri": "https://localhost:8080/"
        },
        "id": "dMvAtuFTQKoT",
        "outputId": "d59aa5a0-ce3d-4979-9d32-603f106bbf9e"
      },
      "execution_count": null,
      "outputs": [
        {
          "output_type": "stream",
          "name": "stdout",
          "text": [
            "+--------------------+--------------------+---------+-----------------------+\n",
            "|         nome_evento|numero_participantes|orcamento|media_preco_palestrante|\n",
            "+--------------------+--------------------+---------+-----------------------+\n",
            "|         AI Workshop|                 200|  60000.0|                 300.00|\n",
            "| CyberSecurity Forum|                 400|  80000.0|                 200.00|\n",
            "|      BigData Summit|                 500| 100000.0|                 200.00|\n",
            "|  GameDev Conference|                 900| 154030.0|                 171.14|\n",
            "|     HealthTech Expo|                 700|  70000.0|                 100.00|\n",
            "|     SpaceTech Forum|                 500|  50000.0|                 100.00|\n",
            "|          Cloud Expo|                 600|  45000.0|                  75.00|\n",
            "|       Robotics Expo|                 500|  30000.0|                  60.00|\n",
            "|   DevOps Conference|                 800|  40000.0|                  50.00|\n",
            "|            IoT Expo|                 600|  30000.0|                  50.00|\n",
            "|        Mobile World|                 700|  30000.0|                  42.86|\n",
            "|Quantum Computing...|                 400|  15350.0|                  38.38|\n",
            "|  DataScience Meetup|                 300|  10000.0|                  33.33|\n",
            "|   Blockchain Meetup|                 300|   9600.0|                  32.00|\n",
            "|          TechSummit|                 500|  12000.0|                  24.00|\n",
            "|        FrontEnd Day|                 900|  20000.0|                  22.22|\n",
            "|   UX/UI Design Week|                 700|  15420.0|                  22.03|\n",
            "|   WebDev Conference|                 800|  15000.0|                  18.75|\n",
            "|    GreenTech Summit|                 600|  10300.0|                  17.17|\n",
            "|   EdTech Conference|                 800|   5440.0|                   6.80|\n",
            "+--------------------+--------------------+---------+-----------------------+\n",
            "\n"
          ]
        }
      ]
    },
    {
      "cell_type": "code",
      "source": [
        "from pyspark.sql.functions import col, regexp_extract\n",
        "\n",
        "# Calcular a contagem de palavras pelo começo\n",
        "df_publico = df.withColumn('tema_principal_palestra', regexp_extract(col('publico_alvo'), r'^(\\w+)', 1))\n",
        "\n",
        "df_resultado = df_publico.groupBy('tema_principal_palestra',).count().orderBy('count', ascending=False)\n",
        "\n",
        "df_resultado.show()\n"
      ],
      "metadata": {
        "colab": {
          "base_uri": "https://localhost:8080/"
        },
        "id": "eZ3FkpMkRsJ4",
        "outputId": "53e02d06-970a-49bb-ed03-7e74914a01c3"
      },
      "execution_count": null,
      "outputs": [
        {
          "output_type": "stream",
          "name": "stdout",
          "text": [
            "+-----------------------+-----+\n",
            "|tema_principal_palestra|count|\n",
            "+-----------------------+-----+\n",
            "|        Desenvolvedores|    6|\n",
            "|            Engenheiros|    4|\n",
            "|          Profissionais|    2|\n",
            "|        Administradores|    1|\n",
            "|              Designers|    1|\n",
            "|              Analistas|    1|\n",
            "|             Educadores|    1|\n",
            "|         Empreendedores|    1|\n",
            "|          Pesquisadores|    1|\n",
            "|             Estudantes|    1|\n",
            "|          Programadores|    1|\n",
            "+-----------------------+-----+\n",
            "\n"
          ]
        }
      ]
    },
    {
      "cell_type": "code",
      "source": [
        "import pandas as pd\n",
        "\n",
        "with pd.ExcelWriter('Palestra_tecnologia.xlsx') as writer:\n",
        "  df.toPandas().to_excel(writer, sheet_name='Base Completa', index=False),\n",
        "  df_media_pp.toPandas().to_excel(writer, sheet_name='Média de pessoas por palestra', index=False),\n",
        "  df_media_preco.toPandas().to_excel(writer, sheet_name='Preço médio ingressos', index=False),\n",
        "  df_resultado.toPandas().to_excel(writer, sheet_name='Contagem tema principal', index=False)"
      ],
      "metadata": {
        "id": "L_OwJhZxtHYj"
      },
      "execution_count": null,
      "outputs": []
    },
    {
      "cell_type": "code",
      "source": [
        "spark.stop()"
      ],
      "metadata": {
        "id": "Ip95874KxLJ_"
      },
      "execution_count": null,
      "outputs": []
    }
  ]
}