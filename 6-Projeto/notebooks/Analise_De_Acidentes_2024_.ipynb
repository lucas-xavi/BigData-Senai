{
  "cells": [
    {
      "cell_type": "code",
      "execution_count": 1,
      "metadata": {
        "id": "LBgW4N3a59ue"
      },
      "outputs": [],
      "source": [
        "# Importando o PySpark\n",
        "from pyspark.sql import SparkSession"
      ]
    },
    {
      "cell_type": "code",
      "execution_count": 2,
      "metadata": {
        "id": "52r4qtti6WMN"
      },
      "outputs": [],
      "source": [
        "# Criando uma sessão do Spark e adicionando o JAR spark-excel\n",
        "spark = SparkSession.builder.appName('Análise Acidentes 2024') \\\n",
        ".config('spark.jars.package', 'com.crealytics:spark-excel_2.12:0.13.7') \\\n",
        ".getOrCreate()"
      ]
    },
    {
      "cell_type": "code",
      "execution_count": 3,
      "metadata": {
        "colab": {
          "base_uri": "https://localhost:8080/"
        },
        "id": "O4pSlvgD6iBE",
        "outputId": "81302f09-70a5-49fd-bec8-343b9faf4559"
      },
      "outputs": [
        {
          "output_type": "stream",
          "name": "stdout",
          "text": [
            "+------+-------+------------+-------------+-------------------+---+---+-----+---------+---------------+--------------------+-------------------+--------------------+----------------------+-----------+-----------+----------------------+----------+--------------------+--------+----------+------------+--------------------+----------------------+--------------+-------------+-----+---------+------+-------------+--------------+------+--------------+--------------+--------+---------+--------------+\n",
            "|    id|  pesid|data_inversa|   dia_semana|            horario| uf| br|   km|municipio|causa_principal|      causa_acidente|ordem_tipo_acidente|       tipo_acidente|classificacao_acidente|   fase_dia|sentido_via|condicao_metereologica|tipo_pista|         tracado_via|uso_solo|id_veiculo|tipo_veiculo|               marca|ano_fabricacao_veiculo|tipo_envolvido|estado_fisico|idade|     sexo|ilesos|feridos_leves|feridos_graves|mortos|      latitude|     longitude|regional|delegacia|           uop|\n",
            "+------+-------+------------+-------------+-------------------+---+---+-----+---------+---------------+--------------------+-------------------+--------------------+----------------------+-----------+-----------+----------------------+----------+--------------------+--------+----------+------------+--------------------+----------------------+--------------+-------------+-----+---------+------+-------------+--------------+------+--------------+--------------+--------+---------+--------------+\n",
            "|571772|1268971|  01/01/2024|segunda-feira|2025-04-15 00:05:00| RJ|101|272,5|   TANGUA|            Sim|Reação tardia ou ...|                  1|  Colisão com objeto|    Com Vítimas Fatais|Plena Noite|Decrescente|             Céu Claro|     Dupla|                Reta|     Sim|   1018215| Motocicleta|    HONDA/CG 160 FAN|                  2023|      Condutor|        Óbito|   26|Masculino|     0|            0|             0|     1|-2.272.935.968|-4.270.112.512| SPRF-RJ| DEL02-RJ|UOP03-DEL02-RJ|\n",
            "|571774|1268985|  01/01/2024|segunda-feira|2025-04-15 00:05:00| GO|153|424,6| ANAPOLIS|            Não|    Animais na Pista|                  1|  Colisão com objeto|           Sem Vítimas|Plena Noite|Decrescente|             Céu Claro|     Dupla|                Reta|     Não|   1018226|   Automóvel|    VW/GOL 1.6 POWER|                  2009|      Condutor|        Ileso|   34| Feminino|     1|            0|             0|     0|   -16.229.185|   -49.009.797| SPRF-GO| DEL02-GO|UOP01-DEL02-GO|\n",
            "|571774|1268985|  01/01/2024|segunda-feira|2025-04-15 00:05:00| GO|153|424,6| ANAPOLIS|            Sim|Velocidade Incomp...|                  1|  Colisão com objeto|           Sem Vítimas|Plena Noite|Decrescente|             Céu Claro|     Dupla|                Reta|     Não|   1018226|   Automóvel|    VW/GOL 1.6 POWER|                  2009|      Condutor|        Ileso|   34| Feminino|     1|            0|             0|     0|   -16.229.185|   -49.009.797| SPRF-GO| DEL02-GO|UOP01-DEL02-GO|\n",
            "|571777|1269020|  01/01/2024|segunda-feira|2025-04-15 01:45:00| ES|101|264,1|    SERRA|            Sim|Reação tardia ou ...|                  1|  Colisão com objeto|           Sem Vítimas|Plena Noite|Decrescente|               Nublado|  Múltipla|Interseção de Via...|     Sim|   1018251| Caminhonete|      VW/SAVEIRO 1.6|                  2009|      Condutor|        Ileso|   55|Masculino|     1|            0|             0|     0|-2.017.292.791|-4.026.736.384| SPRF-ES| DEL02-ES|UOP01-DEL02-ES|\n",
            "|571778|1269028|  01/01/2024|segunda-feira|2025-04-15 00:45:00| SC|101|  110|    PENHA|            Não|Reação tardia ou ...|                  1|Saída de leito ca...|   Com Vítimas Feridas|Plena Noite|  Crescente|                 Chuva|     Dupla|               Curva|     Não|   1018261|   Camioneta|I/SSANGYONG ACTYO...|                  2011|      Condutor|        Ileso|   53|Masculino|     1|            0|             0|     0|    -2.683.477|   -48.706.151| SPRF-SC| DEL03-SC|UOP02-DEL03-SC|\n",
            "+------+-------+------------+-------------+-------------------+---+---+-----+---------+---------------+--------------------+-------------------+--------------------+----------------------+-----------+-----------+----------------------+----------+--------------------+--------+----------+------------+--------------------+----------------------+--------------+-------------+-----+---------+------+-------------+--------------+------+--------------+--------------+--------+---------+--------------+\n",
            "only showing top 5 rows\n",
            "\n"
          ]
        }
      ],
      "source": [
        "# Caminho para o CSV\n",
        "csv_file_path = '/content/acidentes2024_todas_causas_tipos_vs2.csv'\n",
        "\n",
        "# Lendo o arquivo CSV com Pyspark, especificando o delimitador e codificação\n",
        "df_spark = spark.read.csv(csv_file_path, header = True, sep=';', inferSchema=True, encoding='UTF-8')\n",
        "\n",
        "# Exibindo o esquema da tabela\n",
        "#df_spark.printSchema()\n",
        "\n",
        "# Exibindo o DataFrame, somente as 5 primeiras linhas\n",
        "df_spark.show(5)"
      ]
    },
    {
      "cell_type": "code",
      "execution_count": 4,
      "metadata": {
        "id": "fvfgLEwFWoML"
      },
      "outputs": [],
      "source": [
        "# Excluíndo os dados nullos do DataFrame\n",
        "df_spark = df_spark.replace([\"NA\", \"NULL\"], None).na.drop(subset=[\"id\", \"data_inversa\", \"horario\", \"uf\", \"br\", \"km\"])"
      ]
    },
    {
      "cell_type": "code",
      "execution_count": 5,
      "metadata": {
        "id": "i-I7-5nPExfn"
      },
      "outputs": [],
      "source": [
        "# Excluíndo registros duplicados pela coluna id\n",
        "df_distinct = df_spark.dropDuplicates(['id'])"
      ]
    },
    {
      "cell_type": "code",
      "execution_count": 6,
      "metadata": {
        "colab": {
          "base_uri": "https://localhost:8080/"
        },
        "id": "MWoYHS3pGS9X",
        "outputId": "616755dc-9e6c-40fc-f0ff-049b57fcb437"
      },
      "outputs": [
        {
          "output_type": "stream",
          "name": "stdout",
          "text": [
            "+-------------+-----+\n",
            "|   dia_semana|count|\n",
            "+-------------+-----+\n",
            "|      domingo|11719|\n",
            "|       sábado|11623|\n",
            "|  sexta-feira|11268|\n",
            "|segunda-feira|10181|\n",
            "| quinta-feira| 9541|\n",
            "| quarta-feira| 9358|\n",
            "|  terça-feira| 9280|\n",
            "+-------------+-----+\n",
            "\n"
          ]
        }
      ],
      "source": [
        "# Fazendo contagem de acidentes por dia da semana\n",
        "df_distinct.groupBy('dia_semana').count().orderBy('count', ascending=False).show()"
      ]
    },
    {
      "cell_type": "code",
      "execution_count": 7,
      "metadata": {
        "colab": {
          "base_uri": "https://localhost:8080/"
        },
        "id": "YHEEQKBiHrcF",
        "outputId": "5031f9cc-e6f6-4eb4-9034-5a454d1dce6b"
      },
      "outputs": [
        {
          "output_type": "stream",
          "name": "stdout",
          "text": [
            "+----------------------+----------+-----+\n",
            "|condicao_metereologica|tipo_pista|count|\n",
            "+----------------------+----------+-----+\n",
            "|                 Chuva|  Múltipla|  575|\n",
            "|                 Chuva|   Simples| 3432|\n",
            "|                 Chuva|     Dupla| 3397|\n",
            "|             Céu Claro|     Dupla|19104|\n",
            "|             Céu Claro|  Múltipla| 4389|\n",
            "|             Céu Claro|   Simples|22665|\n",
            "|        Garoa/Chuvisco|     Dupla| 1267|\n",
            "|        Garoa/Chuvisco|  Múltipla|  267|\n",
            "|        Garoa/Chuvisco|   Simples| 1232|\n",
            "|               Granizo|     Dupla|    1|\n",
            "|               Granizo|  Múltipla|    1|\n",
            "|              Ignorado|     Dupla|  298|\n",
            "|              Ignorado|  Múltipla|   80|\n",
            "|              Ignorado|   Simples|  533|\n",
            "|                  Neve|  Múltipla|    1|\n",
            "|      Nevoeiro/Neblina|   Simples|  382|\n",
            "|      Nevoeiro/Neblina|     Dupla|  235|\n",
            "|      Nevoeiro/Neblina|  Múltipla|   39|\n",
            "|               Nublado|  Múltipla| 1297|\n",
            "|               Nublado|   Simples| 5098|\n",
            "+----------------------+----------+-----+\n",
            "only showing top 20 rows\n",
            "\n"
          ]
        }
      ],
      "source": [
        "# Fazendo contagem por condição metereologica e o tipo de pista\n",
        "df_distinct.groupBy('condicao_metereologica', 'tipo_pista').count().orderBy('condicao_metereologica', ascending=True).show()"
      ]
    },
    {
      "cell_type": "code",
      "execution_count": 8,
      "metadata": {
        "colab": {
          "base_uri": "https://localhost:8080/"
        },
        "id": "rjg7Qo74IU7y",
        "outputId": "31651785-0b34-4a30-80f1-125ef89aa41f"
      },
      "outputs": [
        {
          "output_type": "stream",
          "name": "stdout",
          "text": [
            "+---+---+------+\n",
            "| br| uf|avg_km|\n",
            "+---+---+------+\n",
            "|307| AC| 185.0|\n",
            "|317| AC|179.79|\n",
            "|364| AC|148.35|\n",
            "|316| AL|185.34|\n",
            "|101| AL|127.07|\n",
            "|110| AL|   2.0|\n",
            "|104| AL| 65.24|\n",
            "|423| AL|  67.0|\n",
            "|424| AL| 98.57|\n",
            "|416| AL|  32.5|\n",
            "|230| AM|598.56|\n",
            "|319| AM|222.63|\n",
            "|317| AM| 452.0|\n",
            "|174| AM|964.76|\n",
            "|210| AP|  36.3|\n",
            "|156| AP|492.69|\n",
            "| 30| BA| 688.0|\n",
            "|135| BA|147.28|\n",
            "|420| BA|297.93|\n",
            "|418| BA| 81.52|\n",
            "+---+---+------+\n",
            "only showing top 20 rows\n",
            "\n"
          ]
        }
      ],
      "source": [
        "from pyspark.sql.functions import round, avg\n",
        "\n",
        "df_distinct.groupBy('br', 'uf') \\\n",
        ".agg(round(avg('km'), 2).alias('avg_km')) \\\n",
        ".orderBy('uf', ascending=True).show()"
      ]
    },
    {
      "cell_type": "code",
      "execution_count": 9,
      "metadata": {
        "colab": {
          "base_uri": "https://localhost:8080/"
        },
        "id": "5IjB3RMmLKaD",
        "outputId": "76db92f7-33e9-4a31-aefb-8ce11a782f7e"
      },
      "outputs": [
        {
          "output_type": "stream",
          "name": "stdout",
          "text": [
            "+---+------+\n",
            "| br|avg_km|\n",
            "+---+------+\n",
            "|101| 45.73|\n",
            "|116|261.79|\n",
            "|153|107.97|\n",
            "|158|   7.0|\n",
            "|262|320.25|\n",
            "|381|  57.9|\n",
            "|459| 24.33|\n",
            "|488|   2.0|\n",
            "+---+------+\n",
            "\n"
          ]
        }
      ],
      "source": [
        "# Filtrando média de km por UF = São Paulo\n",
        "from pyspark.sql.functions import when, col\n",
        "df_avgkm_br = df_distinct.filter(df_distinct.uf == 'SP') \\\n",
        ".groupBy('br') \\\n",
        ".agg(round(avg('km'), 2).alias('avg_km')) \\\n",
        ".orderBy('br', ascending=True)\n",
        "df_avgkm_br.show()"
      ]
    },
    {
      "cell_type": "code",
      "execution_count": 10,
      "metadata": {
        "id": "WZrvjMB4OM-w"
      },
      "outputs": [],
      "source": [
        "# Importandando a biblioteca Pandas para a conversão do DataFrame spark para pandas\n",
        "import pandas as pd\n",
        "df_avgkm_br_pd = df_avgkm_br.toPandas()"
      ]
    },
    {
      "cell_type": "code",
      "execution_count": 11,
      "metadata": {
        "colab": {
          "base_uri": "https://localhost:8080/",
          "height": 565
        },
        "id": "fzt6DbNfOAUp",
        "outputId": "9c22e635-aac3-4481-8d2e-039cae766a09"
      },
      "outputs": [
        {
          "output_type": "display_data",
          "data": {
            "text/plain": [
              "<Figure size 1000x600 with 1 Axes>"
            ],
            "image/png": "[encoded data removed]"
          },
          "metadata": {}
        }
      ],
      "source": [
        "# Importação das biblioteca para a criação do gráfico\n",
        "import matplotlib.pyplot as plt\n",
        "import seaborn as sns\n",
        "\n",
        "# Criação do gráfico\n",
        "plt.figure(figsize=(10,6))\n",
        "sns.barplot(x='avg_km', y='br', data=df_avgkm_br_pd)\n",
        "plt.title('Análise de acidentes por Rodovia Federal')\n",
        "plt.xlabel('Km/h (Velocidade do do veículo)')\n",
        "plt.ylabel('Rodovias Federais')\n",
        "plt.show()"
      ]
    },
    {
      "cell_type": "code",
      "execution_count": 12,
      "metadata": {
        "colab": {
          "base_uri": "https://localhost:8080/"
        },
        "id": "FFnxqICOmu24",
        "outputId": "3e4c3883-c1b2-4d49-e98d-9bc47d312798"
      },
      "outputs": [
        {
          "output_type": "stream",
          "name": "stdout",
          "text": [
            "+------+-----+\n",
            "|    id|count|\n",
            "+------+-----+\n",
            "|661121| 1540|\n",
            "|594793|  960|\n",
            "|651553|  960|\n",
            "|660799|  945|\n",
            "|615922|  920|\n",
            "|614949|  864|\n",
            "|579689|  792|\n",
            "|651899|  792|\n",
            "|589865|  650|\n",
            "|622294|  575|\n",
            "|659555|  558|\n",
            "|648200|  549|\n",
            "|581035|  532|\n",
            "|639640|  480|\n",
            "|645602|  468|\n",
            "|651573|  460|\n",
            "|602168|  450|\n",
            "|574174|  408|\n",
            "|617117|  408|\n",
            "|617920|  408|\n",
            "+------+-----+\n",
            "only showing top 20 rows\n",
            "\n"
          ]
        }
      ],
      "source": [
        "# Código adicionado no dia 15/04, depois da segunda análise para averiguar, a quantidade de registro por Id\n",
        "df_spark.groupBy('id').count().orderBy('count', ascending=False).show()"
      ]
    },
    {
      "cell_type": "code",
      "execution_count": 13,
      "metadata": {
        "id": "ZmtxTYjYmUuT"
      },
      "outputs": [],
      "source": [
        "# Finalizando a sessão do spark\n",
        "spark.stop()"
      ]
    }
  ],
  "metadata": {
    "colab": {
      "provenance": []
    },
    "kernelspec": {
      "display_name": "Python 3 (ipykernel)",
      "language": "python",
      "name": "python3"
    },
    "language_info": {
      "codemirror_mode": {
        "name": "ipython",
        "version": 3
      },
      "file_extension": ".py",
      "mimetype": "text/x-python",
      "name": "python",
      "nbconvert_exporter": "python",
      "pygments_lexer": "ipython3",
      "version": "3.12.7"
    }
  },
  "nbformat": 4,
  "nbformat_minor": 0
}