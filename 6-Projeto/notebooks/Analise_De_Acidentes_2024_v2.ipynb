{
 "cells": [
  {
   "cell_type": "code",
   "execution_count": 1,
   "id": "28edcf2e-ddd4-446d-b000-a080fbc67e90",
   "metadata": {},
   "outputs": [],
   "source": [
    "import pandas as pd\n",
    "import seaborn as sns\n",
    "import matplotlib.pyplot as plt"
   ]
  },
  {
   "cell_type": "code",
   "execution_count": 10,
   "id": "363530cf-24fa-4a07-89ca-75a7629a474e",
   "metadata": {},
   "outputs": [],
   "source": [
    "# Caminho para o arquivo da análise\n",
    "path = r'C:\\Users\\Lucas-PC\\Desktop\\Projeto 6\\data\\raw\\acidentes2024_todas_causas_tipos_vs2.csv'\n",
    "\n",
    "# Criado a função createDataFrame para usar o DataFrame\n",
    "def createDataFrame() -> pd.DataFrame:\n",
    "    data = pd.read_csv(path, delimiter=';', low_memory=False, encoding='UTF-8', dtype=str)\n",
    "    df = pd.DataFrame(data)\n",
    "    \n",
    "    #Removi as colunas latitude, longitude, regional, delegacia, uop, pois não considero importante para minha análise.\n",
    "    df.drop(columns=['latitude','longitude','regional','delegacia','uop'],inplace=True) \n",
    "    \n",
    "    return df"
   ]
  },
  {
   "cell_type": "code",
   "execution_count": null,
   "id": "c2875ddb-b06a-4bda-8c76-62218029d7b1",
   "metadata": {},
   "outputs": [],
   "source": [
    "# Armazenando a função createDataFrame na váriavel df.\n",
    "df = createDataFrame()"
   ]
  },
  {
   "cell_type": "code",
   "execution_count": 8,
   "id": "da6b5c20-3cef-42c8-9992-6bd94a82a148",
   "metadata": {},
   "outputs": [],
   "source": [
    "# Código para ver o schema do DataFrame\n",
    "#df.info()"
   ]
  },
  {
   "cell_type": "code",
   "execution_count": 9,
   "id": "7b71c429-7270-4404-a3bd-973b0ff2f315",
   "metadata": {},
   "outputs": [
    {
     "data": {
      "text/html": [
       "<div>\n",
       "<style scoped>\n",
       "    .dataframe tbody tr th:only-of-type {\n",
       "        vertical-align: middle;\n",
       "    }\n",
       "\n",
       "    .dataframe tbody tr th {\n",
       "        vertical-align: top;\n",
       "    }\n",
       "\n",
       "    .dataframe thead th {\n",
       "        text-align: right;\n",
       "    }\n",
       "</style>\n",
       "<table border=\"1\" class=\"dataframe\">\n",
       "  <thead>\n",
       "    <tr style=\"text-align: right;\">\n",
       "      <th></th>\n",
       "      <th>id</th>\n",
       "      <th>pesid</th>\n",
       "      <th>data_inversa</th>\n",
       "      <th>dia_semana</th>\n",
       "      <th>horario</th>\n",
       "      <th>uf</th>\n",
       "      <th>br</th>\n",
       "      <th>km</th>\n",
       "      <th>municipio</th>\n",
       "      <th>causa_principal</th>\n",
       "      <th>...</th>\n",
       "      <th>marca</th>\n",
       "      <th>ano_fabricacao_veiculo</th>\n",
       "      <th>tipo_envolvido</th>\n",
       "      <th>estado_fisico</th>\n",
       "      <th>idade</th>\n",
       "      <th>sexo</th>\n",
       "      <th>ilesos</th>\n",
       "      <th>feridos_leves</th>\n",
       "      <th>feridos_graves</th>\n",
       "      <th>mortos</th>\n",
       "    </tr>\n",
       "  </thead>\n",
       "  <tbody>\n",
       "    <tr>\n",
       "      <th>0</th>\n",
       "      <td>571772</td>\n",
       "      <td>1268971</td>\n",
       "      <td>01/01/2024</td>\n",
       "      <td>segunda-feira</td>\n",
       "      <td>00:05:00</td>\n",
       "      <td>RJ</td>\n",
       "      <td>101</td>\n",
       "      <td>272,5</td>\n",
       "      <td>TANGUA</td>\n",
       "      <td>Sim</td>\n",
       "      <td>...</td>\n",
       "      <td>HONDA/CG 160 FAN</td>\n",
       "      <td>2023</td>\n",
       "      <td>Condutor</td>\n",
       "      <td>Óbito</td>\n",
       "      <td>26</td>\n",
       "      <td>Masculino</td>\n",
       "      <td>0</td>\n",
       "      <td>0</td>\n",
       "      <td>0</td>\n",
       "      <td>1</td>\n",
       "    </tr>\n",
       "    <tr>\n",
       "      <th>1</th>\n",
       "      <td>571774</td>\n",
       "      <td>1268985</td>\n",
       "      <td>01/01/2024</td>\n",
       "      <td>segunda-feira</td>\n",
       "      <td>00:05:00</td>\n",
       "      <td>GO</td>\n",
       "      <td>153</td>\n",
       "      <td>424,6</td>\n",
       "      <td>ANAPOLIS</td>\n",
       "      <td>Não</td>\n",
       "      <td>...</td>\n",
       "      <td>VW/GOL 1.6 POWER</td>\n",
       "      <td>2009</td>\n",
       "      <td>Condutor</td>\n",
       "      <td>Ileso</td>\n",
       "      <td>34</td>\n",
       "      <td>Feminino</td>\n",
       "      <td>1</td>\n",
       "      <td>0</td>\n",
       "      <td>0</td>\n",
       "      <td>0</td>\n",
       "    </tr>\n",
       "    <tr>\n",
       "      <th>2</th>\n",
       "      <td>571774</td>\n",
       "      <td>1268985</td>\n",
       "      <td>01/01/2024</td>\n",
       "      <td>segunda-feira</td>\n",
       "      <td>00:05:00</td>\n",
       "      <td>GO</td>\n",
       "      <td>153</td>\n",
       "      <td>424,6</td>\n",
       "      <td>ANAPOLIS</td>\n",
       "      <td>Sim</td>\n",
       "      <td>...</td>\n",
       "      <td>VW/GOL 1.6 POWER</td>\n",
       "      <td>2009</td>\n",
       "      <td>Condutor</td>\n",
       "      <td>Ileso</td>\n",
       "      <td>34</td>\n",
       "      <td>Feminino</td>\n",
       "      <td>1</td>\n",
       "      <td>0</td>\n",
       "      <td>0</td>\n",
       "      <td>0</td>\n",
       "    </tr>\n",
       "    <tr>\n",
       "      <th>3</th>\n",
       "      <td>571777</td>\n",
       "      <td>1269020</td>\n",
       "      <td>01/01/2024</td>\n",
       "      <td>segunda-feira</td>\n",
       "      <td>01:45:00</td>\n",
       "      <td>ES</td>\n",
       "      <td>101</td>\n",
       "      <td>264,1</td>\n",
       "      <td>SERRA</td>\n",
       "      <td>Sim</td>\n",
       "      <td>...</td>\n",
       "      <td>VW/SAVEIRO 1.6</td>\n",
       "      <td>2009</td>\n",
       "      <td>Condutor</td>\n",
       "      <td>Ileso</td>\n",
       "      <td>55</td>\n",
       "      <td>Masculino</td>\n",
       "      <td>1</td>\n",
       "      <td>0</td>\n",
       "      <td>0</td>\n",
       "      <td>0</td>\n",
       "    </tr>\n",
       "    <tr>\n",
       "      <th>4</th>\n",
       "      <td>571778</td>\n",
       "      <td>1269028</td>\n",
       "      <td>01/01/2024</td>\n",
       "      <td>segunda-feira</td>\n",
       "      <td>00:45:00</td>\n",
       "      <td>SC</td>\n",
       "      <td>101</td>\n",
       "      <td>110</td>\n",
       "      <td>PENHA</td>\n",
       "      <td>Não</td>\n",
       "      <td>...</td>\n",
       "      <td>I/SSANGYONG ACTYON A23 4</td>\n",
       "      <td>2011</td>\n",
       "      <td>Condutor</td>\n",
       "      <td>Ileso</td>\n",
       "      <td>53</td>\n",
       "      <td>Masculino</td>\n",
       "      <td>1</td>\n",
       "      <td>0</td>\n",
       "      <td>0</td>\n",
       "      <td>0</td>\n",
       "    </tr>\n",
       "  </tbody>\n",
       "</table>\n",
       "<p>5 rows × 32 columns</p>\n",
       "</div>"
      ],
      "text/plain": [
       "       id    pesid data_inversa     dia_semana   horario  uf   br     km  \\\n",
       "0  571772  1268971   01/01/2024  segunda-feira  00:05:00  RJ  101  272,5   \n",
       "1  571774  1268985   01/01/2024  segunda-feira  00:05:00  GO  153  424,6   \n",
       "2  571774  1268985   01/01/2024  segunda-feira  00:05:00  GO  153  424,6   \n",
       "3  571777  1269020   01/01/2024  segunda-feira  01:45:00  ES  101  264,1   \n",
       "4  571778  1269028   01/01/2024  segunda-feira  00:45:00  SC  101    110   \n",
       "\n",
       "  municipio causa_principal  ...                     marca  \\\n",
       "0    TANGUA             Sim  ...          HONDA/CG 160 FAN   \n",
       "1  ANAPOLIS             Não  ...          VW/GOL 1.6 POWER   \n",
       "2  ANAPOLIS             Sim  ...          VW/GOL 1.6 POWER   \n",
       "3     SERRA             Sim  ...            VW/SAVEIRO 1.6   \n",
       "4     PENHA             Não  ...  I/SSANGYONG ACTYON A23 4   \n",
       "\n",
       "  ano_fabricacao_veiculo tipo_envolvido estado_fisico idade       sexo ilesos  \\\n",
       "0                   2023       Condutor         Óbito    26  Masculino      0   \n",
       "1                   2009       Condutor         Ileso    34   Feminino      1   \n",
       "2                   2009       Condutor         Ileso    34   Feminino      1   \n",
       "3                   2009       Condutor         Ileso    55  Masculino      1   \n",
       "4                   2011       Condutor         Ileso    53  Masculino      1   \n",
       "\n",
       "  feridos_leves feridos_graves mortos  \n",
       "0             0              0      1  \n",
       "1             0              0      0  \n",
       "2             0              0      0  \n",
       "3             0              0      0  \n",
       "4             0              0      0  \n",
       "\n",
       "[5 rows x 32 columns]"
      ]
     },
     "execution_count": 9,
     "metadata": {},
     "output_type": "execute_result"
    }
   ],
   "source": [
    "# Visualização dos 5 primeiros registros.\n",
    "df.head()"
   ]
  },
  {
   "cell_type": "code",
   "execution_count": null,
   "id": "e075fbbd-6337-4d52-8ca2-465fd3bc5307",
   "metadata": {},
   "outputs": [],
   "source": [
    "# Pesquisando por tipo_envolvido, para se ter uma visão mais amplas sobre os dados nullos.\n",
    "df[df['tipo_envolvido'].isna()].sample(5)"
   ]
  },
  {
   "cell_type": "code",
   "execution_count": null,
   "id": "9960fef0-86dc-43f7-ba86-424c30ff29a0",
   "metadata": {
    "scrolled": true
   },
   "outputs": [],
   "source": [
    "# Filtrei por alguns Ids, pois a cada vez que verificava, tinha-se muitos ids com multiplos registros.\n",
    "df[df['id']== '661121']"
   ]
  },
  {
   "cell_type": "code",
   "execution_count": null,
   "id": "ec24ce42-46ab-421a-a70e-ac55bacbcc8d",
   "metadata": {},
   "outputs": [],
   "source": [
    "# Selecionei a coluna tipo_envolvido, para saber os valores que nela continha e qual a relação com o tipo_veiculo, após a análise superficial acima.\n",
    "df['tipo_envolvido'].unique()"
   ]
  },
  {
   "cell_type": "code",
   "execution_count": null,
   "id": "5bf8c07f-d6e5-4486-942c-185f5f2a0f7a",
   "metadata": {},
   "outputs": [],
   "source": [
    "# Tive uma dúvida em relação a tipo_envolvido e tipo_veiculo = Semireboque, então usei os códigos abaixos para saber se todo tipo_veiculo = Semireboque tinha o valor NaN.\n",
    "df[df['tipo_veiculo'] == 'Semireboque']['tipo_envolvido'].isna().all()"
   ]
  },
  {
   "cell_type": "code",
   "execution_count": null,
   "id": "24ebebb2-2423-4f02-8d4e-99a4cd248399",
   "metadata": {},
   "outputs": [],
   "source": [
    "#Mostra quantos registros em cada coluna, tem o valor Null\n",
    "df.isnull().sum()"
   ]
  },
  {
   "cell_type": "code",
   "execution_count": null,
   "id": "ef018c1e-b2e1-42c7-94f9-5af39f99d1fe",
   "metadata": {},
   "outputs": [],
   "source": [
    "#Média em porcentagem, para saber quantos valores são nullos\n",
    "df.isnull().mean() * 100"
   ]
  },
  {
   "cell_type": "markdown",
   "id": "b2a1ee4b-cf43-406a-aec8-af92fe0afb24",
   "metadata": {},
   "source": [
    "Começando a tratar alguns valores null"
   ]
  },
  {
   "cell_type": "code",
   "execution_count": null,
   "id": "370289e6-b6f3-4836-9829-b36820fad860",
   "metadata": {},
   "outputs": [],
   "source": [
    "# Verificação da coluna KM, pois mesmo com análise interior, não fazia sentido alguns dados nesse arquivo, como KM = 424,6 \n",
    "df[['km']]\n",
    "df['km'].unique()\n",
    "#Ao verificar e pesquisar um pouco, descobri que a coluna KM se trata do kilometro e não da velocidade ao qual o(s) condutor(es) estavam."
   ]
  },
  {
   "cell_type": "code",
   "execution_count": null,
   "id": "d3bcf602-4652-467f-a24f-b3a18f1b6ced",
   "metadata": {},
   "outputs": [],
   "source": [
    "# Média de acidentes por estado (com todos os dados)\n",
    "media_completa = df.groupby('uf').size().mean()\n",
    "print(media_completa)"
   ]
  },
  {
   "cell_type": "code",
   "execution_count": null,
   "id": "e6bc44e1-7c34-4d77-b297-79f0c208f954",
   "metadata": {},
   "outputs": [],
   "source": [
    "# Convertendo KM para tipo númerico, para fazer a média\n",
    "df['km'] = pd.to_numeric(df['km'], errors='coerce') # coerce é para que se a conversão não for bem sucedida, ele retornarar NaN\n",
    "df_validos = df[df['km'].notnull()]"
   ]
  },
  {
   "cell_type": "code",
   "execution_count": null,
   "id": "9fc6194e-0c7a-4b55-8f7a-bcf6b6b40bf2",
   "metadata": {},
   "outputs": [],
   "source": [
    "# Média por estado com dados válidos\n",
    "media_filtrada = df_validos.groupby('uf').size().mean()"
   ]
  },
  {
   "cell_type": "code",
   "execution_count": null,
   "id": "550a12a3-928b-41d3-83de-236b28ee957a",
   "metadata": {},
   "outputs": [],
   "source": [
    "# Cálculando a variancia, para saber se a tabela está usável depois das dúvidas\n",
    "variancia = media_completa - media_filtrada\n",
    "print(f\"Variação entre as médias: {variancia:.2f}\")"
   ]
  },
  {
   "cell_type": "code",
   "execution_count": null,
   "id": "0cd1507b-92cd-4578-94da-c6be2b5ea7e3",
   "metadata": {},
   "outputs": [],
   "source": [
    "# Além da variação extremamente alta, há muitos registros em um único id\n",
    "df['id'].value_counts().head(10)"
   ]
  },
  {
   "cell_type": "code",
   "execution_count": null,
   "id": "b6fc84f7-75b6-4b16-8948-0a4c10d154f3",
   "metadata": {},
   "outputs": [],
   "source": []
  }
 ],
 "metadata": {
  "kernelspec": {
   "display_name": "Python 3 (ipykernel)",
   "language": "python",
   "name": "python3"
  },
  "language_info": {
   "codemirror_mode": {
    "name": "ipython",
    "version": 3
   },
   "file_extension": ".py",
   "mimetype": "text/x-python",
   "name": "python",
   "nbconvert_exporter": "python",
   "pygments_lexer": "ipython3",
   "version": "3.12.7"
  }
 },
 "nbformat": 4,
 "nbformat_minor": 5
}
